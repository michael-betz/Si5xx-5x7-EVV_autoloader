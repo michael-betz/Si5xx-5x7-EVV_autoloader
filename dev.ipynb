{
 "cells": [
  {
   "cell_type": "code",
   "execution_count": 178,
   "metadata": {},
   "outputs": [],
   "source": [
    "#%%writefile Si570.py\n",
    "class Si570( object ):\n",
    "    \"\"\" \n",
    "    helper class to convert from numbers used in the datasheet\n",
    "    to register values\n",
    "    \"\"\"\n",
    "    HS_DIVS_LOOKUP = (4,5,6,7,None,9,None,11)\n",
    "    \n",
    "    def __init__(self, l=None):\n",
    "        \"\"\"\n",
    "        l can be a string like 'r 01 C2 BC 81 83 02 \\n'\n",
    "        \"\"\"\n",
    "        if l:\n",
    "            ls = l.strip().split()[1:] # ['01', 'C2', 'BC', '81', '83', '02']\n",
    "            self._regs = bytearray([ int(x,16) for x in ls ])\n",
    "        else:\n",
    "            self._regs = bytearray(6);\n",
    "    \n",
    "    @property\n",
    "    def HS_DIV(self):\n",
    "        \"\"\" DCO High Speed Divider \"\"\"\n",
    "        return Si570.HS_DIVS_LOOKUP[ self._regs[0] >> 5 ]\n",
    "    \n",
    "    @HS_DIV.setter\n",
    "    def HS_DIV(self, value):\n",
    "        ind = Si570.HS_DIVS_LOOKUP.index(value)\n",
    "        self._regs[0] &= 0x1F\n",
    "        self._regs[0] |= (ind<<5) & 0xE0\n",
    "    \n",
    "    @property\n",
    "    def N1(self):\n",
    "        \"\"\" CLKOUT Output Divider \"\"\"\n",
    "        N1 = (self._regs[0]&0x1F)<<2 | self._regs[1]>>6\n",
    "        N1 += 1\n",
    "        # Illegal odd divider values will be rounded up to the nearest even value.\n",
    "        if( (N1 > 1) and (N1 & 0x01) ):\n",
    "            print( \"Illegal N1: {0}, rounding up to {1}\", N1, N1+1 )\n",
    "            N1 += 1\n",
    "        return N1\n",
    "    \n",
    "    @N1.setter\n",
    "    def N1(self, value):\n",
    "        value -= 1\n",
    "        self._regs[0] &= 0xE0\n",
    "        self._regs[0] |= (value>>2) & 0x1F\n",
    "        self._regs[1] &= 0x3F\n",
    "        self._regs[1] |= (value<<6) & 0xC0\n",
    "    \n",
    "    @property\n",
    "    def RFFREQ(self):\n",
    "        \"\"\" Reference Frequency control input to DCO. [float] \"\"\"\n",
    "        RFFREQ = (self._regs[1]&0x3F)<<32 | self._regs[2]<<24 |         \\\n",
    "                        self._regs[3]<<16 | self._regs[4]<<8  | self._regs[5]\n",
    "        return RFFREQ / 2.0**28\n",
    "    \n",
    "    @RFFREQ.setter\n",
    "    def RFFREQ(self, value):\n",
    "        value = int( value * 2**28 )\n",
    "        self._regs[1] &= 0xC0\n",
    "        self._regs[1] |= (value>>32) & 0x3F\n",
    "        self._regs[2]  = (value>>24) & 0xFF\n",
    "        self._regs[3]  = (value>>16) & 0xFF\n",
    "        self._regs[4]  = (value>> 8) & 0xFF\n",
    "        self._regs[5]  =  value      & 0xFF\n",
    "    \n",
    "    def fxtal(self, f0):\n",
    "        \"\"\" \n",
    "        calculate internal crystal frequency. \n",
    "        f0 = startup frequency (see http://www.silabs.com/products/timing/lookup-customize)\n",
    "        \"\"\"\n",
    "        return ( f0 * self.HS_DIV * self.N1 ) / self.RFFREQ\n",
    "    \n",
    "    def __repr__(self):\n",
    "        s  = 'w '\n",
    "        s += ' '.join('{:02x}'.format(x) for x in self._regs)\n",
    "        return s\n",
    "    \n",
    "    def __str__(self):\n",
    "        s = \"HS_DIV:{0:2d}, N1:{1:2d}, RFFREQ:{2:13.9f}\".format( self.HS_DIV, self.N1, self.RFFREQ )\n",
    "        return s"
   ]
  },
  {
   "cell_type": "code",
   "execution_count": 179,
   "metadata": {},
   "outputs": [
    {
     "name": "stdout",
     "output_type": "stream",
     "text": [
      "HS_DIV: 4, N1: 8, RFFREQ: 43.781619079\n",
      "4\n",
      "8\n",
      "43.78161907941103\n",
      "114.02045207477408\n"
     ]
    }
   ],
   "source": [
    "l = \"r 01 C2 BC 81 83 02 \\n\"\n",
    "s = Si570( l )\n",
    "print( s )\n",
    "print( s.HS_DIV )\n",
    "print( s.N1 )\n",
    "print( s.RFFREQ )\n",
    "print( s.fxtal( 156e6 )/1e6 )"
   ]
  },
  {
   "cell_type": "code",
   "execution_count": 158,
   "metadata": {},
   "outputs": [
    {
     "name": "stdout",
     "output_type": "stream",
     "text": [
      "b'r 01 C2 BC 81 83 02 \\n'\n"
     ]
    }
   ],
   "source": [
    "print( l.encode(\"ascii\") )"
   ]
  },
  {
   "cell_type": "code",
   "execution_count": 111,
   "metadata": {
    "collapsed": true
   },
   "outputs": [],
   "source": [
    "s.RFFREQ = s.RFFREQ\n",
    "s.HS_DIV = s.HS_DIV\n",
    "s.N1 = s.N1"
   ]
  },
  {
   "cell_type": "code",
   "execution_count": 112,
   "metadata": {},
   "outputs": [
    {
     "name": "stdout",
     "output_type": "stream",
     "text": [
      "bytearray(b'\\x01\\xc2\\x80\\x00\\x00\\x00')\n",
      "4\n",
      "8\n",
      "40.0\n",
      "124.8\n"
     ]
    }
   ],
   "source": [
    "print( s._regs )\n",
    "print( s.HS_DIV )\n",
    "print( s.N1 )\n",
    "print( s.RFFREQ )\n",
    "print( s.fxtal( 156e6 )/1e6 )"
   ]
  },
  {
   "cell_type": "code",
   "execution_count": 159,
   "metadata": {
    "collapsed": true
   },
   "outputs": [],
   "source": [
    "import serial"
   ]
  },
  {
   "cell_type": "code",
   "execution_count": 167,
   "metadata": {
    "collapsed": true
   },
   "outputs": [],
   "source": [
    "ser = serial.Serial(\"/dev/ttyUSB0\", timeout=3 )"
   ]
  },
  {
   "cell_type": "code",
   "execution_count": 172,
   "metadata": {},
   "outputs": [
    {
     "name": "stdout",
     "output_type": "stream",
     "text": [
      "w 01 C2 EB 34 D0 02\n",
      "config_done\n"
     ]
    }
   ],
   "source": [
    "ser.write(b\"w 01 c2 eb 34 d0 02\")\n",
    "print( ser.readline().decode().strip() )\n",
    "print( ser.readline().decode().strip() )"
   ]
  },
  {
   "cell_type": "code",
   "execution_count": 165,
   "metadata": {
    "collapsed": true
   },
   "outputs": [],
   "source": [
    "ser.close()"
   ]
  },
  {
   "cell_type": "code",
   "execution_count": null,
   "metadata": {
    "collapsed": true
   },
   "outputs": [],
   "source": []
  }
 ],
 "metadata": {
  "kernelspec": {
   "display_name": "Python 3",
   "language": "python",
   "name": "python3"
  },
  "language_info": {
   "codemirror_mode": {
    "name": "ipython",
    "version": 3
   },
   "file_extension": ".py",
   "mimetype": "text/x-python",
   "name": "python",
   "nbconvert_exporter": "python",
   "pygments_lexer": "ipython3",
   "version": "3.6.3"
  }
 },
 "nbformat": 4,
 "nbformat_minor": 2
}
